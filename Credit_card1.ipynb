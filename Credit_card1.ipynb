import numpy as np 
import pandas as pd 
from sklearn.metrics import confusion_matrix 
from sklearn.cross_validation import train_test_split 
from sklearn.tree import DecisionTreeClassifier 
from sklearn.metrics import accuracy_score 
from sklearn.metrics import classification_report 

import os
import csv
import time
from collections import defaultdict


BIN="548765"
BIN="448765"

# Save path to data set in a variable
df1 = "Resources/data.csv"

# Use Pandas to read data
df1_pd = pd.read_csv(df1)
df1_pd.head()

# Show a single column
df1_pd["Data"].head()

def num_there(s):
    for x in s:
        if any(i.isdigit() for i in x) == True:
            print(x)
            print(df1_df.info())

# Set path for file
csvpath = os.path.join("Resources", "data.csv")
print(csvpath)

pd.set_option('display.max_columns', len(df1_pd.columns))
def num_there(s):
    for x in s:
        if any(i.isdigit() for i in x) == True:
            print(x)
num_there(df1_pd['name'])

# number to the credit card type

MASTERCARD = 'MasterCard'
VISA = 'Visa'

# Card number constants
MASTERCARD_2 = '5',
VISA_1 = '4',


def num_there(s):
    return any(i.isdigit() for i in s)

num_there(2)

res = [int(i) for i in df1.split() if i.isdigit()] 
type(str(res[0]))
res

print(BIN in str(res[0]))

num_there(df1)


    total = digitSum(myString)
    if (total % 10 == 0):

        if total[:1] == "4":
            cardtype = "Visa"           
        if int(total[:2]) >= 51 and int(total[:2]) <= 55:
            cardtype = "Master Card"
        
        return cardtype

        print ('Card valid') + cardtype
    else:
        print ('not Card')

count = 0
number = int(input("Enter a number "))
while (number > 0):
  number = number//10
  count = count + 1
print ("Total number of digits : ",count)

count = 0
number = int(input("Enter a number "))
while (number > 0):
  number = number//10
  count = count + 1
print ("Total number of digits : ",count)

count = 0
number = int(input("Enter a number "))
print ("Total number of digits : ",len(str(abs(number))))

# checking 16, 15, 14 digits

card_num = str(card_num)

    # Visa
    if len(card) == 16 and card_num[:16]:
        print("card.")

    elif len(card) == 15:
        if card_num[:15]:
        print("card.")
    elif len(card) == 14:
        if card_num[:14]:
        print("card.")
    else:
        print ('not Card')
      
