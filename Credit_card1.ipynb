{
 "cells": [
  {
   "cell_type": "markdown",
   "metadata": {},
   "source": [
    "# TEST\n"
   ]
  },
  {
   "cell_type": "code",
   "execution_count": null,
   "metadata": {},
   "outputs": [],
   "source": [
    "import numpy as np \n",
    "import pandas as pd \n",
    "from sklearn.metrics import confusion_matrix \n",
    "from sklearn.cross_validation import train_test_split \n",
    "from sklearn.tree import DecisionTreeClassifier \n",
    "from sklearn.metrics import accuracy_score \n",
    "from sklearn.metrics import classification_report \n",
    "\n",
    "import os\n",
    "import csv\n",
    "import time\n",
    "from collections import defaultdict"
   ]
  },
  {
   "cell_type": "code",
   "execution_count": null,
   "metadata": {},
   "outputs": [],
   "source": [
    "# Save path to data set in a variable\n",
    "df1 = \"Resources/data.csv\""
   ]
  },
  {
   "cell_type": "code",
   "execution_count": null,
   "metadata": {},
   "outputs": [],
   "source": [
    "# Set path for file\n",
    "csvpath = os.path.join(\"Resources\", \"data.csv\")\n",
    "print(csvpath)"
   ]
  },
  {
   "cell_type": "code",
   "execution_count": null,
   "metadata": {},
   "outputs": [],
   "source": [
    "# number to the credit card type\n",
    "\n",
    "MASTERCARD = 'MasterCard'\n",
    "VISA = 'Visa'\n",
    "\n",
    "# Card number constants\n",
    "MASTERCARD_2 = '5',\n",
    "VISA_1 = '4',\n",
    "\n",
    "BIN=\"548765\""
   ]
  },
  {
   "cell_type": "code",
   "execution_count": null,
   "metadata": {},
   "outputs": [],
   "source": [
    "# Use Pandas to read data\n",
    "df1_pd = pd.read_csv(df1)\n",
    "df1_pd.head()"
   ]
  },
  {
   "cell_type": "code",
   "execution_count": null,
   "metadata": {},
   "outputs": [],
   "source": [
    "# Show a single column\n",
    "df1_pd[\"Data\"].head()"
   ]
  },
  {
   "cell_type": "code",
   "execution_count": null,
   "metadata": {},
   "outputs": [],
   "source": [
    "def num_there(s):\n",
    "    return any(i.isdigit() for i in s)"
   ]
  },
  {
   "cell_type": "code",
   "execution_count": null,
   "metadata": {},
   "outputs": [],
   "source": [
    "num_there(df1)"
   ]
  },
  {
   "cell_type": "code",
   "execution_count": null,
   "metadata": {},
   "outputs": [],
   "source": [
    "res = [int(i) for i in df1.split() if i.isdigit()] \n",
    "type(str(res[0]))\n",
    "res"
   ]
  },
  {
   "cell_type": "code",
   "execution_count": null,
   "metadata": {},
   "outputs": [],
   "source": [
    "print(BIN in str(res[0]))"
   ]
  },
  {
   "cell_type": "code",
   "execution_count": null,
   "metadata": {},
   "outputs": [],
   "source": [
    "num_there(df1)"
   ]
  },
  {
   "cell_type": "code",
   "execution_count": null,
   "metadata": {},
   "outputs": [],
   "source": [
    "\n",
    "    total = digitSum(myString)\n",
    "    if (total % 10 == 0):\n",
    "\n",
    "        if total[:1] == \"4\":\n",
    "            cardtype = \"Visa\"           \n",
    "        if int(total[:2]) >= 51 and int(total[:2]) <= 55:\n",
    "            cardtype = \"Master Card\"\n",
    "        \n",
    "        return cardtype\n",
    "\n",
    "        print ('Card valid') + cardtype\n",
    "    else:\n",
    "        print ('not Card')"
   ]
  },
  {
   "cell_type": "code",
   "execution_count": 2,
   "metadata": {},
   "outputs": [
    {
     "name": "stdout",
     "output_type": "stream",
     "text": [
      "Enter a number 5214785236985214\n",
      "Total number of digits :  16\n"
     ]
    }
   ],
   "source": [
    "count = 0\n",
    "number = int(input(\"Enter a number \"))\n",
    "while (number > 0):\n",
    "  number = number//10\n",
    "  count = count + 1\n",
    "print (\"Total number of digits : \",count)"
   ]
  },
  {
   "cell_type": "code",
   "execution_count": 3,
   "metadata": {},
   "outputs": [
    {
     "name": "stdout",
     "output_type": "stream",
     "text": [
      "Enter a number  521478523698521\n",
      "Total number of digits :  15\n"
     ]
    }
   ],
   "source": [
    "count = 0\n",
    "number = int(input(\"Enter a number \"))\n",
    "while (number > 0):\n",
    "  number = number//10\n",
    "  count = count + 1\n",
    "print (\"Total number of digits : \",count)"
   ]
  },
  {
   "cell_type": "code",
   "execution_count": 4,
   "metadata": {},
   "outputs": [
    {
     "name": "stdout",
     "output_type": "stream",
     "text": [
      "Enter a number 521478523698521\n",
      "Total number of digits :  15\n"
     ]
    }
   ],
   "source": [
    "count = 0\n",
    "number = int(input(\"Enter a number \"))\n",
    "print (\"Total number of digits : \",len(str(abs(number))))"
   ]
  },
  {
   "cell_type": "code",
   "execution_count": 5,
   "metadata": {},
   "outputs": [
    {
     "ename": "IndentationError",
     "evalue": "unexpected indent (<ipython-input-5-20f564a768ef>, line 4)",
     "output_type": "error",
     "traceback": [
      "\u001b[1;36m  File \u001b[1;32m\"<ipython-input-5-20f564a768ef>\"\u001b[1;36m, line \u001b[1;32m4\u001b[0m\n\u001b[1;33m    if len(card) == 16 and card_num[:16] in visa_1:\u001b[0m\n\u001b[1;37m    ^\u001b[0m\n\u001b[1;31mIndentationError\u001b[0m\u001b[1;31m:\u001b[0m unexpected indent\n"
     ]
    }
   ],
   "source": [
    "card_num = str(card_num)\n",
    "\n",
    "    # Visa\n",
    "    if len(card) == 16 and card_num[:16] in visa_1:\n",
    "        print(\"Visa card.\")\n",
    "\n",
    "    elif len(card) == 15:\n",
    "        if card_num[:15] in MASTERCARD_2:\n",
    "        print(\"Master card.\")\n",
    "      "
   ]
  },
  {
   "cell_type": "code",
   "execution_count": null,
   "metadata": {},
   "outputs": [],
   "source": []
  }
 ],
 "metadata": {
  "kernelspec": {
   "display_name": "Python 3",
   "language": "python",
   "name": "python3"
  },
  "language_info": {
   "codemirror_mode": {
    "name": "ipython",
    "version": 3
   },
   "file_extension": ".py",
   "mimetype": "text/x-python",
   "name": "python",
   "nbconvert_exporter": "python",
   "pygments_lexer": "ipython3",
   "version": "3.6.5"
  }
 },
 "nbformat": 4,
 "nbformat_minor": 2
}
